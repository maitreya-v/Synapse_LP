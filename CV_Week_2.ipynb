{
  "cells": [
    {
      "cell_type": "markdown",
      "metadata": {
        "id": "view-in-github",
        "colab_type": "text"
      },
      "source": [
        "<a href=\"https://colab.research.google.com/github/maitreya-v/Synapse_LP/blob/Week-7/CV_Week_2.ipynb\" target=\"_parent\"><img src=\"https://colab.research.google.com/assets/colab-badge.svg\" alt=\"Open In Colab\"/></a>"
      ]
    },
    {
      "cell_type": "markdown",
      "source": [
        "# **CV Week 2**\n",
        "\n",
        "## **DJS Synapse Learning Period**\n",
        "![image.png](data:image/png;base64,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)"
      ],
      "metadata": {
        "id": "6sqwrgy6jk9k"
      }
    },
    {
      "cell_type": "code",
      "source": [
        "from google.colab import drive\n",
        "drive.mount('/content/drive')"
      ],
      "metadata": {
        "id": "3TYLt6sgjpmI",
        "outputId": "8d02c2e5-4488-430a-d963-70e2e4fd2a02",
        "colab": {
          "base_uri": "https://localhost:8080/"
        }
      },
      "execution_count": 1,
      "outputs": [
        {
          "output_type": "stream",
          "name": "stdout",
          "text": [
            "Mounted at /content/drive\n"
          ]
        }
      ]
    },
    {
      "cell_type": "markdown",
      "source": [
        "# 2.1 DATA AUGMENTATION\n",
        "\n",
        "Watch the video to understand why data augmentation is done:          \n",
        "https://www.youtube.com/watch?v=rfM4DaLTkMs\n",
        "\n",
        "REFER THE BELOW ARTICLE FOR CODES :     \n",
        "https://machinelearningmastery.com/how-to-configure-image-data-augmentation-when-training-deep-learning-neural-networks/\n",
        "\n",
        "download the image https://encrypted-tbn0.gstatic.com/images?q=tbn:ANd9GcTrqWUxvjvW1PfKP4HLmhEG4fN4x1qEbPD3qw&usqp=CAU using wget (save it as aug.jpg)"
      ],
      "metadata": {
        "id": "B9hJG40GjqTe"
      }
    },
    {
      "cell_type": "code",
      "source": [
        "# download the image\n",
        "!wget -O aug.jpg https://encrypted-tbn0.gstatic.com/images?q=tbn:ANd9GcTrqWUxvjvW1PfKP4HLmhEG4fN4x1qEbPD3qw&usqp=CAU"
      ],
      "metadata": {
        "id": "nGcWP-3cjx9l",
        "outputId": "1613ff2c-919e-4b6f-9de5-ee27e3f81810",
        "colab": {
          "base_uri": "https://localhost:8080/"
        }
      },
      "execution_count": 4,
      "outputs": [
        {
          "output_type": "stream",
          "name": "stdout",
          "text": [
            "--2023-01-05 04:06:45--  https://encrypted-tbn0.gstatic.com/images?q=tbn:ANd9GcTrqWUxvjvW1PfKP4HLmhEG4fN4x1qEbPD3qw\n",
            "Resolving encrypted-tbn0.gstatic.com (encrypted-tbn0.gstatic.com)... 74.125.203.138, 74.125.203.113, 74.125.203.139, ...\n",
            "Connecting to encrypted-tbn0.gstatic.com (encrypted-tbn0.gstatic.com)|74.125.203.138|:443... connected.\n",
            "HTTP request sent, awaiting response... 200 OK\n",
            "Length: 3069 (3.0K) [image/jpeg]\n",
            "Saving to: ‘aug.jpg’\n",
            "\n",
            "\raug.jpg               0%[                    ]       0  --.-KB/s               \raug.jpg             100%[===================>]   3.00K  --.-KB/s    in 0s      \n",
            "\n",
            "2023-01-05 04:06:45 (20.6 MB/s) - ‘aug.jpg’ saved [3069/3069]\n",
            "\n"
          ]
        }
      ]
    },
    {
      "cell_type": "markdown",
      "source": [
        "write code and display output for Horizontal and vertical shift image augmentation\n",
        "(refer the above article and plot 9 images similary as it was done in the article)"
      ],
      "metadata": {
        "id": "4FHl8HvEjyho"
      }
    },
    {
      "cell_type": "code",
      "source": [
        "!ls"
      ],
      "metadata": {
        "id": "rHPfF__7Jw6L",
        "outputId": "ed8db2ae-0d3b-47b4-95ef-eaff7c540107",
        "colab": {
          "base_uri": "https://localhost:8080/"
        }
      },
      "execution_count": 6,
      "outputs": [
        {
          "output_type": "stream",
          "name": "stdout",
          "text": [
            "aug.jpg  drive\tsample_data\n"
          ]
        }
      ]
    },
    {
      "cell_type": "code",
      "source": [
        "# horizontal shift image augmentation\n",
        "# example of horizontal shift image augmentation\n",
        "from numpy import expand_dims\n",
        "from keras_preprocessing.image import load_img\n",
        "from keras_preprocessing.image import img_to_array\n",
        "from keras.preprocessing.image import ImageDataGenerator\n",
        "from matplotlib import pyplot \n",
        "\n",
        "# steps:-\n",
        "# load the image\n",
        "img=load_img('aug.jpg')\n",
        "# convert to numpy array\n",
        "data=img_to_array(img)\n",
        "# expand dimension to one sample\n",
        "samples = expand_dims(data, 0)\n",
        "# create image data augmentation generator\n",
        "datagen = ImageDataGenerator(width_shift_range=[-100,100])\n",
        "# prepare iterator\n",
        "it = datagen.flow(samples, batch_size=1)\n",
        "# generate samples and plot\n",
        "for i in range(9):\n",
        "# generate batch of images\n",
        " pyplot.subplot(330 + 1 + i)\n",
        " batch = it.next()\n",
        "# convert to unsigned integers for viewing\n",
        " image = batch[0].astype('uint8')\n",
        "# plot raw pixel data\n",
        " pyplot.imshow(image)\n",
        "# show the figure\n",
        "pyplot.show()"
      ],
      "metadata": {
        "id": "Hguc3-cokiXu",
        "outputId": "2f929478-51d9-4b08-b98a-171b0a129796",
        "colab": {
          "base_uri": "https://localhost:8080/",
          "height": 257
        }
      },
      "execution_count": 9,
      "outputs": [
        {
          "output_type": "display_data",
          "data": {
            "text/plain": [
              "<Figure size 432x288 with 9 Axes>"
            ],
            "image/png": "[encoded data removed]"
          },
          "metadata": {
            "needs_background": "light"
          }
        }
      ]
    },
    {
      "cell_type": "code",
      "source": [
        "# vertical shift image augmentation\n",
        "# add code below\n",
        "\n",
        "from numpy import expand_dims\n",
        "from keras_preprocessing.image import load_img\n",
        "from keras_preprocessing.image import img_to_array\n",
        "from keras.preprocessing.image import ImageDataGenerator\n",
        "from matplotlib import pyplot\n",
        "# load the image\n",
        "img = load_img('aug.jpg')\n",
        "# convert to numpy array\n",
        "data = img_to_array(img)\n",
        "# expand dimension to one sample\n",
        "samples = expand_dims(data, 0)\n",
        "# create image data augmentation generator\n",
        "datagen = ImageDataGenerator(height_shift_range=0.5)\n",
        "# prepare iterator\n",
        "it = datagen.flow(samples, batch_size=1)\n",
        "# generate samples and plot\n",
        "for i in range(9):\n",
        " # define subplot\n",
        " pyplot.subplot(330 + 1 + i)\n",
        " # generate batch of images\n",
        " batch = it.next()\n",
        " # convert to unsigned integers for viewing\n",
        " image = batch[0].astype('uint8')\n",
        " # plot raw pixel data\n",
        " pyplot.imshow(image)\n",
        "# show the figure\n",
        "pyplot.show()"
      ],
      "metadata": {
        "id": "yKzCsrZXkk_I",
        "outputId": "ccf123d1-1776-4ac4-972d-975943960916",
        "colab": {
          "base_uri": "https://localhost:8080/",
          "height": 257
        }
      },
      "execution_count": 11,
      "outputs": [
        {
          "output_type": "display_data",
          "data": {
            "text/plain": [
              "<Figure size 432x288 with 9 Axes>"
            ],
            "image/png": "[encoded data removed]"
          },
          "metadata": {
            "needs_background": "light"
          }
        }
      ]
    },
    {
      "cell_type": "markdown",
      "source": [
        "Write code and display output for Horizontal and vertical **flip** image augmentation"
      ],
      "metadata": {
        "id": "xu4QEUfLknE4"
      }
    },
    {
      "cell_type": "code",
      "source": [
        "# code here\n",
        "\n",
        "# example of horizontal flip image augmentation\n",
        "from numpy import expand_dims\n",
        "from keras_preprocessing.image import load_img\n",
        "from keras_preprocessing.image import img_to_array\n",
        "from keras.preprocessing.image import ImageDataGenerator\n",
        "from matplotlib import pyplot\n",
        "# load the image\n",
        "img = load_img('aug.jpg')\n",
        "# convert to numpy array\n",
        "data = img_to_array(img)\n",
        "# expand dimension to one sample\n",
        "samples = expand_dims(data, 0)\n",
        "# create image data augmentation generator\n",
        "datagen = ImageDataGenerator(horizontal_flip=True)\n",
        "# prepare iterator\n",
        "it = datagen.flow(samples, batch_size=1)\n",
        "# generate samples and plot\n",
        "for i in range(9):\n",
        " # define subplot\n",
        " pyplot.subplot(330 + 1 + i)\n",
        " # generate batch of images\n",
        " batch = it.next()\n",
        " # convert to unsigned integers for viewing\n",
        " image = batch[0].astype('uint8')\n",
        " # plot raw pixel data\n",
        " pyplot.imshow(image)\n",
        "# show the figure\n",
        "pyplot.show()"
      ],
      "metadata": {
        "id": "vWMpz9hwkp5A",
        "outputId": "a7255c02-eda9-487a-f9f2-119ea89b6861",
        "colab": {
          "base_uri": "https://localhost:8080/",
          "height": 257
        }
      },
      "execution_count": 12,
      "outputs": [
        {
          "output_type": "display_data",
          "data": {
            "text/plain": [
              "<Figure size 432x288 with 9 Axes>"
            ],
            "image/png": "[encoded data removed]"
          },
          "metadata": {
            "needs_background": "light"
          }
        }
      ]
    },
    {
      "cell_type": "code",
      "source": [
        "# code here\n",
        "\n",
        "# example of horizontal flip image augmentation\n",
        "from numpy import expand_dims\n",
        "from keras_preprocessing.image import load_img\n",
        "from keras_preprocessing.image import img_to_array\n",
        "from keras.preprocessing.image import ImageDataGenerator\n",
        "from matplotlib import pyplot\n",
        "# load the image\n",
        "img = load_img('aug.jpg')\n",
        "# convert to numpy array\n",
        "data = img_to_array(img)\n",
        "# expand dimension to one sample\n",
        "samples = expand_dims(data, 0)\n",
        "# create image data augmentation generator\n",
        "datagen = ImageDataGenerator(vertical_flip=True)\n",
        "# prepare iterator\n",
        "it = datagen.flow(samples, batch_size=1)\n",
        "# generate samples and plot\n",
        "for i in range(9):\n",
        " # define subplot\n",
        " pyplot.subplot(330 + 1 + i)\n",
        " # generate batch of images\n",
        " batch = it.next()\n",
        " # convert to unsigned integers for viewing\n",
        " image = batch[0].astype('uint8')\n",
        " # plot raw pixel data\n",
        " pyplot.imshow(image)\n",
        "# show the figure\n",
        "pyplot.show()"
      ],
      "metadata": {
        "id": "0-uVlf8ANOK3",
        "outputId": "e494b494-0cd5-4c1b-a0fe-fcda819032dd",
        "colab": {
          "base_uri": "https://localhost:8080/",
          "height": 257
        }
      },
      "execution_count": 13,
      "outputs": [
        {
          "output_type": "display_data",
          "data": {
            "text/plain": [
              "<Figure size 432x288 with 9 Axes>"
            ],
            "image/png": "[encoded data removed]"
          },
          "metadata": {
            "needs_background": "light"
          }
        }
      ]
    },
    {
      "cell_type": "markdown",
      "source": [
        "Random Rotation Augmentation"
      ],
      "metadata": {
        "id": "_ygrKQcykqmO"
      }
    },
    {
      "cell_type": "code",
      "source": [
        "# code here\n",
        "\n",
        "# example of random rotation image augmentation\n",
        "from numpy import expand_dims\n",
        "from keras_preprocessing.image import load_img\n",
        "from keras_preprocessing.image import img_to_array\n",
        "from keras.preprocessing.image import ImageDataGenerator\n",
        "from matplotlib import pyplot\n",
        "# load the image\n",
        "img = load_img('aug.jpg')\n",
        "# convert to numpy array\n",
        "data = img_to_array(img)\n",
        "# expand dimension to one sample\n",
        "samples = expand_dims(data, 0)\n",
        "# create image data augmentation generator\n",
        "datagen = ImageDataGenerator(rotation_range=90)\n",
        "# prepare iterator\n",
        "it = datagen.flow(samples, batch_size=1)\n",
        "# generate samples and plot\n",
        "for i in range(9):\n",
        " # define subplot\n",
        " pyplot.subplot(330 + 1 + i)\n",
        " # generate batch of images\n",
        " batch = it.next()\n",
        " # convert to unsigned integers for viewing\n",
        " image = batch[0].astype('uint8')\n",
        " # plot raw pixel data\n",
        " pyplot.imshow(image)\n",
        "# show the figure\n",
        "pyplot.show()"
      ],
      "metadata": {
        "id": "6J_bPwookxbD",
        "outputId": "940699cf-ee1b-4d30-fd39-882d3330898f",
        "colab": {
          "base_uri": "https://localhost:8080/",
          "height": 257
        }
      },
      "execution_count": 14,
      "outputs": [
        {
          "output_type": "display_data",
          "data": {
            "text/plain": [
              "<Figure size 432x288 with 9 Axes>"
            ],
            "image/png": "[encoded data removed]"
          },
          "metadata": {
            "needs_background": "light"
          }
        }
      ]
    },
    {
      "cell_type": "markdown",
      "source": [
        "Random Brightness Augmentation"
      ],
      "metadata": {
        "id": "ao1A99hOk0l2"
      }
    },
    {
      "cell_type": "code",
      "source": [
        "# code here\n",
        "\n",
        "# example of brighting image augmentation\n",
        "from numpy import expand_dims\n",
        "from keras_preprocessing.image import load_img\n",
        "from keras_preprocessing.image import img_to_array\n",
        "from keras.preprocessing.image import ImageDataGenerator\n",
        "from matplotlib import pyplot\n",
        "# load the image\n",
        "img = load_img('aug.jpg')\n",
        "# convert to numpy array\n",
        "data = img_to_array(img)\n",
        "# expand dimension to one sample\n",
        "samples = expand_dims(data, 0)\n",
        "# create image data augmentation generator\n",
        "datagen = ImageDataGenerator(brightness_range=[0.2,1.0])\n",
        "# prepare iterator\n",
        "it = datagen.flow(samples, batch_size=1)\n",
        "# generate samples and plot\n",
        "for i in range(9):\n",
        " # define subplot\n",
        " pyplot.subplot(330 + 1 + i)\n",
        " # generate batch of images\n",
        " batch = it.next()\n",
        " # convert to unsigned integers for viewing\n",
        " image = batch[0].astype('uint8')\n",
        " # plot raw pixel data\n",
        " pyplot.imshow(image)\n",
        "# show the figure\n",
        "pyplot.show()"
      ],
      "metadata": {
        "id": "_ElP3daYk3MM",
        "outputId": "446b1394-69ac-4e25-c03d-4634f2702253",
        "colab": {
          "base_uri": "https://localhost:8080/",
          "height": 257
        }
      },
      "execution_count": 15,
      "outputs": [
        {
          "output_type": "display_data",
          "data": {
            "text/plain": [
              "<Figure size 432x288 with 9 Axes>"
            ],
            "image/png": "[encoded data removed]"
          },
          "metadata": {
            "needs_background": "light"
          }
        }
      ]
    },
    {
      "cell_type": "markdown",
      "source": [
        "Random Zoom Augmentation"
      ],
      "metadata": {
        "id": "3-Aekv-Wk5jk"
      }
    },
    {
      "cell_type": "code",
      "source": [
        "# code here\n",
        "\n",
        "# example of zoom image augmentation\n",
        "from numpy import expand_dims\n",
        "from keras_preprocessing.image import load_img\n",
        "from keras_preprocessing.image import img_to_array\n",
        "from keras.preprocessing.image import ImageDataGenerator\n",
        "from matplotlib import pyplot\n",
        "# load the image\n",
        "img = load_img('aug.jpg')\n",
        "# convert to numpy array\n",
        "data = img_to_array(img)\n",
        "# expand dimension to one sample\n",
        "samples = expand_dims(data, 0)\n",
        "# create image data augmentation generator\n",
        "datagen = ImageDataGenerator(zoom_range=[0.5,1.0])\n",
        "# prepare iterator\n",
        "it = datagen.flow(samples, batch_size=1)\n",
        "# generate samples and plot\n",
        "for i in range(9):\n",
        " # define subplot\n",
        " pyplot.subplot(330 + 1 + i)\n",
        " # generate batch of images\n",
        " batch = it.next()\n",
        " # convert to unsigned integers for viewing\n",
        " image = batch[0].astype('uint8')\n",
        " # plot raw pixel data\n",
        " pyplot.imshow(image)\n",
        "# show the figure\n",
        "pyplot.show()"
      ],
      "metadata": {
        "id": "OLplTm-6k77S",
        "outputId": "e5e041c8-fcbd-49ef-f30d-130e94f73b9e",
        "colab": {
          "base_uri": "https://localhost:8080/",
          "height": 257
        }
      },
      "execution_count": 16,
      "outputs": [
        {
          "output_type": "display_data",
          "data": {
            "text/plain": [
              "<Figure size 432x288 with 9 Axes>"
            ],
            "image/png": "[encoded data removed]"
          },
          "metadata": {
            "needs_background": "light"
          }
        }
      ]
    },
    {
      "cell_type": "markdown",
      "source": [
        "###OPTIONAL\n",
        "Any other augmentation of your choice. Be creative 😀✨ "
      ],
      "metadata": {
        "id": "OS8M85ink_LU"
      }
    },
    {
      "cell_type": "code",
      "source": [
        "# code here"
      ],
      "metadata": {
        "id": "aK9fCiqsk-ww"
      },
      "execution_count": null,
      "outputs": []
    },
    {
      "cell_type": "markdown",
      "metadata": {
        "id": "jYysdyb-CaWM"
      },
      "source": [
        "# 2.2 Intro to TensorFlow: Classify images of clothing"
      ]
    },
    {
      "cell_type": "code",
      "execution_count": null,
      "metadata": {
        "id": "dzLKpmZICaWN"
      },
      "outputs": [],
      "source": [
        "# import Tensorflow\n",
        "import tensorflow as tf\n",
        "\n",
        "# import the other helper libraries required\n",
        "\n",
        "\n"
      ]
    },
    {
      "cell_type": "markdown",
      "metadata": {
        "id": "yR0EdgrLCaWR"
      },
      "source": [
        "## Import the Fashion MNIST dataset"
      ]
    },
    {
      "cell_type": "markdown",
      "metadata": {
        "id": "DLdCchMdCaWQ"
      },
      "source": [
        "This guide uses the [Fashion MNIST](https://github.com/zalandoresearch/fashion-mnist) dataset which contains 70,000 grayscale images in 10 categories. The images show individual articles of clothing at low resolution (28 by 28 pixels), as seen here:\n",
        "\n",
        "<table>\n",
        "  <tr><td>\n",
        "    <img src=\"https://tensorflow.org/images/fashion-mnist-sprite.png\"\n",
        "         alt=\"Fashion MNIST sprite\"  width=\"600\">\n",
        "  </td></tr>\n",
        "  <tr><td align=\"center\">\n",
        "    <b>Figure 1.</b> <a href=\"https://github.com/zalandoresearch/fashion-mnist\">Fashion-MNIST samples</a> (by Zalando, MIT License).<br/>&nbsp;\n",
        "  </td></tr>\n",
        "</table>\n",
        "\n",
        "Fashion MNIST is intended as a drop-in replacement for the classic [MNIST](http://yann.lecun.com/exdb/mnist/) dataset—often used as the \"Hello, World\" of machine learning programs for computer vision. The MNIST dataset contains images of handwritten digits (0, 1, 2, etc.) in a format identical to that of the articles of clothing you'll use here.\n",
        "\n",
        "This guide uses Fashion MNIST for variety, and because it's a slightly more challenging problem than regular MNIST. Both datasets are relatively small and are used to verify that an algorithm works as expected. They're good starting points to test and debug code.\n",
        "\n",
        "Here, 60,000 images are used to train the network and 10,000 images to evaluate how accurately the network learned to classify images. You can access the Fashion MNIST directly from TensorFlow. Import and [load the Fashion MNIST data](https://www.tensorflow.org/api_docs/python/tf/keras/datasets/fashion_mnist/load_data) directly from TensorFlow:"
      ]
    },
    {
      "cell_type": "code",
      "execution_count": null,
      "metadata": {
        "id": "7MqDQO0KCaWS"
      },
      "outputs": [],
      "source": [
        "#complete the code below:\n",
        "fashion_mnist = \n",
        "\n",
        "#load the data into train_images, train_labels, test_images, test_labels\n",
        "(train_images, train_labels), (test_images, test_labels) = "
      ]
    },
    {
      "cell_type": "markdown",
      "metadata": {
        "id": "t9FDsUlxCaWW"
      },
      "source": [
        "Loading the dataset returns four NumPy arrays:\n",
        "\n",
        "* The `train_images` and `train_labels` arrays are the *training set*—the data the model uses to learn.\n",
        "* The model is tested against the *test set*, the `test_images`, and `test_labels` arrays.\n",
        "\n",
        "The images are 28x28 NumPy arrays, with pixel values ranging from 0 to 255. The *labels* are an array of integers, ranging from 0 to 9. These correspond to the *class* of clothing the image represents:\n",
        "\n",
        "<table>\n",
        "  <tr>\n",
        "    <th>Label</th>\n",
        "    <th>Class</th>\n",
        "  </tr>\n",
        "  <tr>\n",
        "    <td>0</td>\n",
        "    <td>T-shirt/top</td>\n",
        "  </tr>\n",
        "  <tr>\n",
        "    <td>1</td>\n",
        "    <td>Trouser</td>\n",
        "  </tr>\n",
        "    <tr>\n",
        "    <td>2</td>\n",
        "    <td>Pullover</td>\n",
        "  </tr>\n",
        "    <tr>\n",
        "    <td>3</td>\n",
        "    <td>Dress</td>\n",
        "  </tr>\n",
        "    <tr>\n",
        "    <td>4</td>\n",
        "    <td>Coat</td>\n",
        "  </tr>\n",
        "    <tr>\n",
        "    <td>5</td>\n",
        "    <td>Sandal</td>\n",
        "  </tr>\n",
        "    <tr>\n",
        "    <td>6</td>\n",
        "    <td>Shirt</td>\n",
        "  </tr>\n",
        "    <tr>\n",
        "    <td>7</td>\n",
        "    <td>Sneaker</td>\n",
        "  </tr>\n",
        "    <tr>\n",
        "    <td>8</td>\n",
        "    <td>Bag</td>\n",
        "  </tr>\n",
        "    <tr>\n",
        "    <td>9</td>\n",
        "    <td>Ankle boot</td>\n",
        "  </tr>\n",
        "</table>\n",
        "\n",
        "Each image is mapped to a single label. Since the *class names* are not included with the dataset, store them here to use later when plotting the images:"
      ]
    },
    {
      "cell_type": "code",
      "execution_count": null,
      "metadata": {
        "id": "IjnLH5S2CaWx"
      },
      "outputs": [],
      "source": [
        "#store the class names in a list\n",
        "#complete the code below\n",
        "class_names = "
      ]
    },
    {
      "cell_type": "markdown",
      "metadata": {
        "id": "Brm0b_KACaWX"
      },
      "source": [
        "## Explore the data\n",
        "\n",
        "Let's explore the format of the dataset before training the model. The following shows there are 60,000 images in the training set, with each image represented as 28 x 28 pixels:"
      ]
    },
    {
      "cell_type": "code",
      "execution_count": null,
      "metadata": {
        "id": "zW5k_xz1CaWX"
      },
      "outputs": [],
      "source": [
        "#check the dimensions of the training data\n"
      ]
    },
    {
      "cell_type": "markdown",
      "metadata": {
        "id": "cIAcvQqMCaWf"
      },
      "source": [
        "Likewise, there are 60,000 labels in the training set:"
      ]
    },
    {
      "cell_type": "code",
      "execution_count": null,
      "metadata": {
        "id": "TRFYHB2mCaWb"
      },
      "outputs": [],
      "source": [
        "#verify the number of train_lables\n",
        "\n"
      ]
    },
    {
      "cell_type": "markdown",
      "metadata": {
        "id": "TMPI88iZpO2T"
      },
      "source": [
        "There are 10,000 images in the test set. Again, each image is represented as 28 x 28 pixels:"
      ]
    },
    {
      "cell_type": "code",
      "execution_count": null,
      "metadata": {
        "id": "2KFnYlcwCaWl"
      },
      "outputs": [],
      "source": [
        "#verify the number of images in test_images by checking the dimensions\n",
        "\n"
      ]
    },
    {
      "cell_type": "markdown",
      "metadata": {
        "id": "rd0A0Iu0CaWq"
      },
      "source": [
        "And the test set contains 10,000 images labels:"
      ]
    },
    {
      "cell_type": "code",
      "execution_count": null,
      "metadata": {
        "id": "iJmPr5-ACaWn"
      },
      "outputs": [],
      "source": [
        "#verify the number of images in test_labels\n",
        "\n"
      ]
    },
    {
      "cell_type": "markdown",
      "metadata": {
        "id": "ES6uQoLKCaWr"
      },
      "source": [
        "## Preprocess the data\n",
        "\n",
        "The data must be preprocessed before training the network. If you inspect the first image in the training set, you will see that the pixel values fall in the range of 0 to 255:"
      ]
    },
    {
      "cell_type": "code",
      "execution_count": null,
      "metadata": {
        "id": "m4VEw8Ud9Quh"
      },
      "outputs": [],
      "source": [
        "#plot a figure using the imshow() function to view the first image in train_images (train_images[0])\n",
        "\n"
      ]
    },
    {
      "cell_type": "markdown",
      "metadata": {
        "id": "Wz7l27Lz9S1P"
      },
      "source": [
        "Scale these values to a range of 0 to 1 before feeding them to the neural network model. To do so, divide the values by 255. It's important that the *training set* and the *testing set* be preprocessed in the same way:"
      ]
    },
    {
      "cell_type": "code",
      "execution_count": null,
      "metadata": {
        "id": "bW5WzIPlCaWv"
      },
      "outputs": [],
      "source": [
        "#complete the code below\n",
        "train_images = \n",
        "\n",
        "test_images = "
      ]
    },
    {
      "cell_type": "markdown",
      "metadata": {
        "id": "Ee638AlnCaWz"
      },
      "source": [
        "To verify that the data is in the correct format and that you're ready to build and train the network, display the first 25 images from the *training set* and display the class name below each image."
      ]
    },
    {
      "cell_type": "code",
      "execution_count": null,
      "metadata": {
        "id": "oZTImqg_CaW1"
      },
      "outputs": [],
      "source": [
        "#write code below\n",
        "\n"
      ]
    },
    {
      "cell_type": "markdown",
      "metadata": {
        "id": "59veuiEZCaW4"
      },
      "source": [
        "## Build the model\n",
        "\n",
        "Building the neural network requires configuring the layers of the model, then compiling the model."
      ]
    },
    {
      "cell_type": "markdown",
      "metadata": {
        "id": "Gxg1XGm0eOBy"
      },
      "source": [
        "### Set up the layers\n",
        "\n",
        "The basic building block of a neural network is the [*layer*](https://www.tensorflow.org/api_docs/python/tf/keras/layers). Layers extract representations from the data fed into them. Hopefully, these representations are meaningful for the problem at hand.\n",
        "\n",
        "Most of deep learning consists of chaining together simple layers. Most layers, such as `tf.keras.layers.Dense`, have parameters that are learned during training."
      ]
    },
    {
      "cell_type": "code",
      "execution_count": null,
      "metadata": {
        "id": "9ODch-OFCaW4"
      },
      "outputs": [],
      "source": [
        "#create a model having the layers defined below this cell\n",
        "\n",
        "model = "
      ]
    },
    {
      "cell_type": "markdown",
      "metadata": {
        "id": "gut8A_7rCaW6"
      },
      "source": [
        "The first layer in this network, `tf.keras.layers.Flatten`, transforms the format of the images from a two-dimensional array (of 28 by 28 pixels) to a one-dimensional array (of 28 * 28 = 784 pixels). Think of this layer as unstacking rows of pixels in the image and lining them up. This layer has no parameters to learn; it only reformats the data.\n",
        "\n",
        "After the pixels are flattened, the network consists of a sequence of two `tf.keras.layers.Dense` layers with a 'BatchNormalization()' layer in between the 2 dense layers. These are densely connected, or fully connected, neural layers. The first `Dense` layer has 128 nodes (or neurons). The second (and last) layer returns a logits array with length of 10. Each node contains a score that indicates the current image belongs to one of the 10 classes. \n",
        "The Batch Normalization layer works by performing a series of operations on the incoming input data. The set of operations involves standardization, normalization, rescaling and shifting of offset of input values coming into the BN layer.\n",
        "\n",
        "### Compile the model\n",
        "\n",
        "Before the model is ready for training, it needs a few more settings. These are added during the model's [*compile*](https://www.tensorflow.org/api_docs/python/tf/keras/Model#compile) step:\n",
        "\n",
        "* [*Loss function*](https://www.tensorflow.org/api_docs/python/tf/keras/losses) —This measures how accurate the model is during training. You want to minimize this function to \"steer\" the model in the right direction.\n",
        "* [*Optimizer*](https://www.tensorflow.org/api_docs/python/tf/keras/optimizers) —This is how the model is updated based on the data it sees and its loss function.\n",
        "* [*Metrics*](https://www.tensorflow.org/api_docs/python/tf/keras/metrics) —Used to monitor the training and testing steps. The following example uses *accuracy*, the fraction of the images that are correctly classified."
      ]
    },
    {
      "cell_type": "code",
      "execution_count": null,
      "metadata": {
        "id": "Lhan11blCaW7"
      },
      "outputs": [],
      "source": [
        "#compile the model using model.compile using the adam optimizer, SparseCategoricalCrossentropy loss and accuracy as metrics\n",
        "\n"
      ]
    },
    {
      "cell_type": "markdown",
      "metadata": {
        "id": "qKF6uW-BCaW-"
      },
      "source": [
        "## Train the model\n",
        "\n",
        "Training the neural network model requires the following steps:\n",
        "\n",
        "1. Feed the training data to the model. In this example, the training data is in the `train_images` and `train_labels` arrays.\n",
        "2. The model learns to associate images and labels.\n",
        "3. You ask the model to make predictions about a test set—in this example, the `test_images` array.\n",
        "4. Verify that the predictions match the labels from the `test_labels` array.\n"
      ]
    },
    {
      "cell_type": "markdown",
      "metadata": {
        "id": "Z4P4zIV7E28Z"
      },
      "source": [
        "### Feed the model\n",
        "\n",
        "To start training,  call the [`model.fit`](https://www.tensorflow.org/api_docs/python/tf/keras/Model#fit) method—so called because it \"fits\" the model to the training data:"
      ]
    },
    {
      "cell_type": "code",
      "execution_count": null,
      "metadata": {
        "id": "xvwvpA64CaW_"
      },
      "outputs": [],
      "source": [
        "#write code below setting epochs=10:\n"
      ]
    },
    {
      "cell_type": "markdown",
      "metadata": {
        "id": "W3ZVOhugCaXA"
      },
      "source": [
        "As the model trains, the loss and accuracy metrics are displayed. This model reaches an accuracy of about 0.91 (or 91%) on the training data."
      ]
    },
    {
      "cell_type": "markdown",
      "metadata": {
        "id": "wCpr6DGyE28h"
      },
      "source": [
        "### Evaluate accuracy\n",
        "\n",
        "Next, compare how the model performs on the test dataset using model.evaluate():"
      ]
    },
    {
      "cell_type": "code",
      "execution_count": null,
      "metadata": {
        "id": "VflXLEeECaXC"
      },
      "outputs": [],
      "source": [
        "#complete code below\n",
        "\n",
        "test_loss, test_acc = \n",
        "\n",
        "print('\\nTest accuracy:', test_acc)"
      ]
    },
    {
      "cell_type": "markdown",
      "metadata": {
        "id": "yWfgsmVXCaXG"
      },
      "source": [
        "It turns out that the accuracy on the test dataset is a little less than the accuracy on the training dataset. This gap between training accuracy and test accuracy represents *overfitting*. Overfitting happens when a machine learning model performs worse on new, previously unseen inputs than it does on the training data. An overfitted model \"memorizes\" the noise and details in the training dataset to a point where it negatively impacts the performance of the model on the new data. For more information, see the following:\n",
        "*   [Demonstrate overfitting](https://www.tensorflow.org/tutorials/keras/overfit_and_underfit#demonstrate_overfitting)\n",
        "*   [Strategies to prevent overfitting](https://www.tensorflow.org/tutorials/keras/overfit_and_underfit#strategies_to_prevent_overfitting)"
      ]
    },
    {
      "cell_type": "markdown",
      "metadata": {
        "id": "v-PyD1SYE28q"
      },
      "source": [
        "### Make predictions\n",
        "\n",
        "With the model trained, you can use it to make predictions about some images.\n",
        "The model's linear outputs, [logits](https://developers.google.com/machine-learning/glossary#logits). Attach a softmax layer to convert the logits to probabilities, which are easier to interpret. "
      ]
    },
    {
      "cell_type": "code",
      "execution_count": null,
      "metadata": {
        "id": "DnfNA0CrQLSD"
      },
      "outputs": [],
      "source": [
        "#complete code below\n",
        "probability_model = "
      ]
    },
    {
      "cell_type": "code",
      "execution_count": null,
      "metadata": {
        "id": "Gl91RPhdCaXI"
      },
      "outputs": [],
      "source": [
        "#predict on the test_images using the probability_model\n",
        "predictions = "
      ]
    },
    {
      "cell_type": "markdown",
      "metadata": {
        "id": "x9Kk1voUCaXJ"
      },
      "source": [
        "Here, the model has predicted the label for each image in the testing set. Let's take a look at the first prediction:"
      ]
    },
    {
      "cell_type": "code",
      "execution_count": null,
      "metadata": {
        "id": "3DmJEUinCaXK"
      },
      "outputs": [],
      "source": [
        "predictions[0]"
      ]
    },
    {
      "cell_type": "markdown",
      "metadata": {
        "id": "-hw1hgeSCaXN"
      },
      "source": [
        "A prediction is an array of 10 numbers. They represent the model's \"confidence\" that the image corresponds to each of the 10 different articles of clothing. You can see which label has the highest confidence value:"
      ]
    },
    {
      "cell_type": "code",
      "execution_count": null,
      "metadata": {
        "id": "qsqenuPnCaXO"
      },
      "outputs": [],
      "source": [
        "#use np.argmax to find the highest confidence value\n"
      ]
    },
    {
      "cell_type": "markdown",
      "metadata": {
        "id": "E51yS7iCCaXO"
      },
      "source": [
        "So, the model is most confident that this image is an ankle boot, or `class_names[9]`. Examining the test label shows that this classification is correct:"
      ]
    },
    {
      "cell_type": "code",
      "execution_count": null,
      "metadata": {
        "id": "Sd7Pgsu6CaXP"
      },
      "outputs": [],
      "source": [
        "test_labels[0]"
      ]
    },
    {
      "cell_type": "markdown",
      "metadata": {
        "id": "Zh9yABaME29S"
      },
      "source": [
        "### Verify predictions\n",
        "\n",
        "With the model trained, you can use it to make predictions about some images."
      ]
    },
    {
      "cell_type": "markdown",
      "metadata": {
        "id": "d4Ov9OFDMmOD"
      },
      "source": [
        "Let's look at the 0th image, predictions, and prediction array. Correct prediction labels are blue and incorrect prediction labels are red. The number gives the percentage (out of 100) for the predicted label.\n",
        "Plot should look like this:\n",
        "![image.png](data:image/png;base64,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)"
      ]
    },
    {
      "cell_type": "code",
      "execution_count": null,
      "metadata": {
        "id": "HV5jw-5HwSmO"
      },
      "outputs": [],
      "source": [
        "#plot the 0th image and next to that plot a bar graph of the predicted values for that image\n",
        "#  if predicted_label is the same as the actual label of the image then the x_axis label should be in blue, whereas \n",
        "# if the predicted_label is not the same as the actual label of the image then the x_axis label should be in red\n",
        "\n",
        "\n"
      ]
    },
    {
      "cell_type": "markdown",
      "metadata": {
        "id": "5wiMlS6wTeM0"
      },
      "source": [
        "Similarly plot the image and predicted values for another value in the test_images"
      ]
    },
    {
      "cell_type": "code",
      "execution_count": null,
      "metadata": {
        "id": "Ko-uzOufSCSe"
      },
      "outputs": [],
      "source": [
        "#write code below\n"
      ]
    },
    {
      "cell_type": "markdown",
      "metadata": {
        "id": "kgdvGD52CaXR"
      },
      "source": [
        "plot several images with their predictions. Note that the model can be wrong even when very confident."
      ]
    },
    {
      "cell_type": "code",
      "execution_count": null,
      "metadata": {
        "id": "hQlnbqaw2Qu_"
      },
      "outputs": [],
      "source": [
        "# Plot the first 10 test images, their predicted labels, and the true labels.\n",
        "# Color correct predictions in blue and incorrect predictions in red.\n"
      ]
    },
    {
      "cell_type": "markdown",
      "metadata": {
        "id": "R32zteKHCaXT"
      },
      "source": [
        "## Use the trained model\n",
        "\n",
        "Finally, use the trained model to make a prediction about a single image."
      ]
    },
    {
      "cell_type": "code",
      "execution_count": null,
      "metadata": {
        "id": "yRJ7JU7JCaXT"
      },
      "outputs": [],
      "source": [
        "# Grab an image from the test dataset.\n",
        "img = \n",
        "\n"
      ]
    },
    {
      "cell_type": "markdown",
      "metadata": {
        "id": "vz3bVp21CaXV"
      },
      "source": [
        "`tf.keras` models are optimized to make predictions on a *batch*, or collection, of examples at once. Accordingly, even though you're using a single image, you need to add it to a list:"
      ]
    },
    {
      "cell_type": "code",
      "execution_count": null,
      "metadata": {
        "id": "lDFh5yF_CaXW"
      },
      "outputs": [],
      "source": [
        "# Add the image to a batch where it's the only member.\n",
        "#hint: use np.expand_dims\n",
        "#complete code below\n",
        "img = \n",
        "\n",
        "print(img.shape)"
      ]
    },
    {
      "cell_type": "markdown",
      "metadata": {
        "id": "EQ5wLTkcCaXY"
      },
      "source": [
        "Now predict the correct label for this image:"
      ]
    },
    {
      "cell_type": "code",
      "execution_count": null,
      "metadata": {
        "id": "o_rzNSdrCaXY"
      },
      "outputs": [],
      "source": [
        "#complete code below\n",
        "predictions_single = \n",
        "\n",
        "print(predictions_single)"
      ]
    },
    {
      "cell_type": "markdown",
      "metadata": {
        "id": "cU1Y2OAMCaXb"
      },
      "source": [
        "`tf.keras.Model.predict` returns a list of lists—one list for each image in the batch of data. Grab the predictions for our (only) image in the batch:"
      ]
    },
    {
      "cell_type": "code",
      "execution_count": null,
      "metadata": {
        "id": "2tRmdq_8CaXb"
      },
      "outputs": [],
      "source": [
        "#print the predicted class for the image\n"
      ]
    },
    {
      "cell_type": "markdown",
      "metadata": {
        "id": "qEFUsvk-jNg1"
      },
      "source": [
        "# Regularization\n",
        "In mathematics, statistics, and computer science, particularly in machine learning and inverse problems, regularization is the process of adding information in order to solve an ill-posed problem or to prevent overfitting.\n",
        "\n",
        "In order to improve the performance of the model, we use different regularization techniques. There are several techniques, but we will discuss 4 main techniques.\n",
        "\n",
        "1. L1 Regularization\n",
        "2. L2 Regularization\n",
        "3. Dropout\n",
        "4. Batch Normalization"
      ]
    },
    {
      "cell_type": "code",
      "execution_count": null,
      "metadata": {
        "id": "_YIdNHq4jNg1"
      },
      "outputs": [],
      "source": [
        "#Basic pre-processing\n",
        "#we're importing the iris dataset from sklearn for our model\n",
        "from sklearn.datasets import load_iris\n",
        "from tensorflow.keras.models import Sequential\n",
        "from tensorflow.keras.utils import to_categorical\n",
        "from tensorflow.keras.layers import Dense\n",
        "from sklearn.preprocessing import StandardScaler\n",
        "from sklearn.model_selection import train_test_split\n",
        "iris = load_iris()\n",
        "X = iris.data\n",
        "y = iris.target\n",
        "y = to_categorical(y) #converting output to one-hot vector\n",
        "ss = StandardScaler() #standardizing the data\n",
        "X = ss.fit_transform(X)\n",
        "X_train, X_test, y_train, y_test = train_test_split(X,y, random_state=16)"
      ]
    },
    {
      "cell_type": "code",
      "execution_count": null,
      "metadata": {
        "id": "1j-uUHIwjNg1"
      },
      "outputs": [],
      "source": [
        "#explore the data (X and y) however you like, (using info(), describe, graphs, etc.) and write any 4 lines on what you understood about the dataset\n",
        "\n",
        "#Solution can be anything\n"
      ]
    },
    {
      "cell_type": "markdown",
      "metadata": {
        "id": "YFc2HbEVCaXd"
      },
      "source": [
        "And the model predicts a label as expected."
      ]
    },
    {
      "cell_type": "code",
      "execution_count": null,
      "metadata": {
        "id": "I2-6_18UjNg2"
      },
      "outputs": [],
      "source": [
        "#model building\n",
        "\n",
        "#run the code given below and observe the performance of this simple model having no regularization\n",
        "\n",
        "model1 = Sequential([\n",
        "    Dense(512, activation='tanh', input_shape = X_train[0].shape),\n",
        "    Dense(512//2, activation='tanh'),\n",
        "    Dense(512//4, activation='tanh'),\n",
        "    Dense(512//8, activation='tanh'),\n",
        "    Dense(32, activation='relu'),\n",
        "    Dense(3, activation='softmax')\n",
        "])\n",
        "print(model1.summary())\n",
        "model1.compile(optimizer='sgd',loss='categorical_crossentropy', metrics=['acc', 'mse'])\n",
        "\n",
        "hist1 = model1.fit(X_train, y_train, epochs=150, batch_size=128, validation_data=(X_test,y_test))\n"
      ]
    },
    {
      "cell_type": "code",
      "execution_count": null,
      "metadata": {
        "id": "BNL2DaWijNg2"
      },
      "outputs": [],
      "source": [
        "#After training the model, evaluate the model and find the  loss, accuracy and mse on the test set using the evaluate() function\n",
        "#print the loss, accuracy and MSE\n",
        "\n"
      ]
    },
    {
      "cell_type": "code",
      "execution_count": null,
      "metadata": {
        "id": "LHzuPCxojNg2"
      },
      "outputs": [],
      "source": [
        "#Observe the plots for Validation Loss and Training Loss.\n",
        "\n",
        "import matplotlib.pyplot as plt\n",
        "plt.style.use('ggplot')\n",
        "plt.plot(hist1.history['loss'], label = 'loss')\n",
        "plt.plot(hist1.history['val_loss'], label='val loss')\n",
        "plt.title(\"Train Loss vs Val_Loss\")\n",
        "plt.xlabel(\"Epochs\")\n",
        "plt.ylabel(\"Loss\")\n",
        "plt.legend()\n",
        "plt.show()\n",
        "\n",
        "# we observe that validation loss is increasing as compared to training loss. \n",
        "# This increase in training loss shows that our model is overfitted.\n",
        "\n",
        "#similarly we plot for model accuracy \n",
        "plt.plot(hist1.history['acc'], label = 'train acc')\n",
        "plt.plot(hist1.history['val_acc'], label='val acc')\n",
        "plt.title(\"train acc vs Val_acc\")\n",
        "plt.xlabel(\"Epochs\")\n",
        "plt.ylabel(\"acc\")\n",
        "plt.legend()\n",
        "plt.show()\n",
        "\n",
        "#This again shows that validation accuracy is low as compared to training accuracy, which again shows signs of overfitting. \n"
      ]
    },
    {
      "cell_type": "markdown",
      "metadata": {
        "id": "Z39BgoV_jNg3"
      },
      "source": [
        "\n",
        "\n",
        "## L1 Regularization:\n",
        " \n"
      ]
    },
    {
      "cell_type": "code",
      "execution_count": null,
      "metadata": {
        "id": "wS0VxMXjjNg3"
      },
      "outputs": [],
      "source": [
        "\n",
        "#A commonly used Regularization technique is L1 regularization, also known as Lasso Regularization.\n",
        "\n",
        "#The main concept of L1 Regularization is that we have to penalize our weights by adding absolute values of weight in our loss function, multiplied by a regularization parameter lambda λ, where λ is manually tuned to be greater than 0.\n",
        "\n",
        "\n",
        "\n",
        "#to implement L1 regularization, create another model called model2 similar to model1, this time add an extra parameter kernel_regularizer, which we set it to ‘l1’ for L1 Regularization in the first Dense layer:\n",
        "\n",
        "\n",
        "\n"
      ]
    },
    {
      "cell_type": "code",
      "execution_count": null,
      "metadata": {
        "id": "jMD-Yoh2jNg3"
      },
      "outputs": [],
      "source": [
        "\n",
        "\n",
        "#just how we used evaluate() in the basic model previously, use it again to find the loss, accuracy and MSE on the test set\n",
        "\n",
        "\n",
        " \n"
      ]
    },
    {
      "cell_type": "code",
      "execution_count": null,
      "metadata": {
        "id": "gYlvXtRdjNg3"
      },
      "outputs": [],
      "source": [
        "# Plot the train loss vs validation loss and train accuracy vs validation accuracy graphs just like we did before\n",
        "\n",
        "\n",
        "\n",
        " \n"
      ]
    },
    {
      "cell_type": "code",
      "execution_count": null,
      "metadata": {
        "id": "W1K1gz5NjNg4"
      },
      "outputs": [],
      "source": [
        "\n",
        "# create a new model model3, similar to model1 and model2 and add l1 in more layers to check if it improves the model or not.\n",
        "\n",
        "\n"
      ]
    },
    {
      "cell_type": "code",
      "execution_count": null,
      "metadata": {
        "id": "oqc4YTxcjNg4"
      },
      "outputs": [],
      "source": [
        "\n",
        "#just how we used evaluate() in the basic model previously, use it again to find the loss, accuracy and MSE on the test set\n",
        "\n",
        "\n",
        " \n",
        "\n"
      ]
    },
    {
      "cell_type": "code",
      "execution_count": null,
      "metadata": {
        "id": "Y6t_eiCcjNg4"
      },
      "outputs": [],
      "source": [
        "# Plot the train loss vs validation loss and train accuracy vs validation accuracy graphs just like we did before\n",
        "\n"
      ]
    },
    {
      "cell_type": "markdown",
      "metadata": {
        "id": "AnLsRvJWjNg4"
      },
      "source": [
        "\n",
        "## L2 Regularization\n"
      ]
    },
    {
      "cell_type": "code",
      "execution_count": null,
      "metadata": {
        "id": "FmJ-xiyJjNg5"
      },
      "outputs": [],
      "source": [
        " \n",
        "\n",
        "# L2 Regularization is another regularization technique which is also known as Ridge regularization. In L2 regularization we add the squared magnitude of weights to penalize our lost function.\n",
        "\n",
        "#to implement L2 regularization, create another model called model4 similar to our initial basic model, this time add an extra parameter kernel_regularizer, which we set to ‘l2’ for L1 Regularization in the first Dense layer.\n",
        "#compile and run the model\n",
        "\n",
        "\n",
        " \n"
      ]
    },
    {
      "cell_type": "code",
      "execution_count": null,
      "metadata": {
        "id": "3A9UBtXpjNg5"
      },
      "outputs": [],
      "source": [
        "\n",
        "#just how we used evaluate() in the basic model previously, use it again to find the loss, accuracy and MSE on the test set\n",
        "\n"
      ]
    },
    {
      "cell_type": "code",
      "execution_count": null,
      "metadata": {
        "id": "S9gQzDA3jNg5"
      },
      "outputs": [],
      "source": [
        "\n",
        "# Plot the train loss vs validation loss and train accuracy vs validation accuracy graphs just like we did before\n",
        "\n",
        "\n"
      ]
    },
    {
      "cell_type": "code",
      "execution_count": null,
      "metadata": {
        "id": "5DQY4zWPjNg5"
      },
      "outputs": [],
      "source": [
        "\n",
        "# Now create model5 having similar to the above models having L2 in all other layers.\n",
        "\n"
      ]
    },
    {
      "cell_type": "code",
      "execution_count": null,
      "metadata": {
        "id": "8zyLTSbvjNg5"
      },
      "outputs": [],
      "source": [
        "\n",
        "#just how we used evaluate() in the basic model previously, use it again to find the loss, accuracy and MSE on the test set\n",
        "\n",
        "\n"
      ]
    },
    {
      "cell_type": "code",
      "execution_count": null,
      "metadata": {
        "id": "bkl-zQfgjNg5"
      },
      "outputs": [],
      "source": [
        "# Plot the train loss vs validation loss and train accuracy vs validation accuracy graphs just like we did before\n",
        "\n",
        "\n"
      ]
    },
    {
      "cell_type": "markdown",
      "metadata": {
        "id": "6r4jfFT9jNg6"
      },
      "source": [
        "\n",
        " \n",
        "\n",
        "## Dropout\n",
        " \n"
      ]
    },
    {
      "cell_type": "code",
      "execution_count": null,
      "metadata": {
        "id": "9mXB0-1FjNg6"
      },
      "outputs": [],
      "source": [
        "\n",
        "#Another common way to avoid regularization is by using the Dropout technique. The main idea behind using dropout is that we randomly turn off some neurons in our layer based on some probability.\n",
        "\n",
        "# Create a model6 having same layers as the basic model. Add a dropout layer in this model, lets say after the 1st dense layer, and set dropout rate as 50%\n",
        "import tensorflow as tf\n",
        "\n"
      ]
    },
    {
      "cell_type": "code",
      "execution_count": null,
      "metadata": {
        "id": "-ITCkhNfjNg6"
      },
      "outputs": [],
      "source": [
        "#just how we used evaluate() in the basic model previously, use it again to find the loss, accuracy and MSE on the test set\n",
        "\n",
        " \n"
      ]
    },
    {
      "cell_type": "code",
      "execution_count": null,
      "metadata": {
        "id": "f2KPG3erjNg6"
      },
      "outputs": [],
      "source": [
        "\n",
        "# Plot the train loss vs validation loss and train accuracy vs validation accuracy graphs just like we did before\n",
        "\n"
      ]
    },
    {
      "cell_type": "code",
      "execution_count": null,
      "metadata": {
        "id": "9eV7jmeajNg6"
      },
      "outputs": [],
      "source": [
        "# Create model7, having more dropout layers, having a dropout rate of your choice\n",
        "\n"
      ]
    },
    {
      "cell_type": "code",
      "execution_count": null,
      "metadata": {
        "id": "a7gicoBxjNg7"
      },
      "outputs": [],
      "source": [
        "#just how we used evaluate() in the basic model previously, use it again to find the loss, accuracy and MSE on the test set\n",
        "\n",
        "\n",
        " \n",
        "\n"
      ]
    },
    {
      "cell_type": "code",
      "execution_count": null,
      "metadata": {
        "id": "EGWTsht7jNg7"
      },
      "outputs": [],
      "source": [
        "# Plot the train loss vs validation loss and train accuracy vs validation accuracy graphs just like we did before\n",
        "\n",
        "\n"
      ]
    },
    {
      "cell_type": "markdown",
      "metadata": {
        "id": "mDmGupc9jNg7"
      },
      "source": [
        "## Batch Normalization\n"
      ]
    },
    {
      "cell_type": "code",
      "execution_count": null,
      "metadata": {
        "id": "VgOIVOdYjNg_"
      },
      "outputs": [],
      "source": [
        "\n",
        "# The main idea behind batch normalization is that we normalize the input layer by using several techniques (sklearn.preprocessing.StandardScaler) in our case, which improves the model performance, so if the input layer is benefitted by normalization, why not normalize the hidden layers, which will improve and fasten learning even further.\n",
        "\n",
        "# To add it in your TensorFlow model, just add tf.keras.layers.BatchNormalization() after your layers.\n",
        "\n",
        "#Create model8, having same layers as the first model, but this time add a BatchNormalization layer after the first or second dense layer\n",
        "\n",
        "\n",
        " \n"
      ]
    },
    {
      "cell_type": "code",
      "execution_count": null,
      "metadata": {
        "id": "XIPh9EqsjNg_"
      },
      "outputs": [],
      "source": [
        "#just how we used evaluate() in the basic model previously, use it again to find the loss, accuracy and MSE on the test set\n"
      ]
    },
    {
      "cell_type": "code",
      "execution_count": null,
      "metadata": {
        "id": "eiTBBrC4jNg_"
      },
      "outputs": [],
      "source": [
        "# Plot the train loss vs validation loss and train accuracy vs validation accuracy graphs just like we did before\n",
        "\n"
      ]
    },
    {
      "cell_type": "code",
      "execution_count": null,
      "metadata": {
        "id": "bLIdMkosjNhA"
      },
      "outputs": [],
      "source": [
        "\n",
        "# Now create model9, having a BatchNormalization layer after each dense layer\n",
        "\n",
        " \n"
      ]
    },
    {
      "cell_type": "code",
      "execution_count": null,
      "metadata": {
        "id": "1NHZyC6xjNhA"
      },
      "outputs": [],
      "source": [
        "#just how we used evaluate() in the basic model previously, use it again to find the loss, accuracy and MSE on the test set\n",
        "\n",
        "\n",
        " "
      ]
    },
    {
      "cell_type": "code",
      "execution_count": null,
      "metadata": {
        "id": "sq74i15MjNhA"
      },
      "outputs": [],
      "source": [
        "# Plot the train loss vs validation loss and train accuracy vs validation accuracy graphs just like we did before\n",
        "\n"
      ]
    },
    {
      "cell_type": "markdown",
      "source": [
        "### After completing the above tasks, note down what you've understood and observed in each of the 9 models and what type of regularization works best for this dataset\n",
        "\n"
      ],
      "metadata": {
        "id": "6OjX-5-LmM9w"
      }
    },
    {
      "cell_type": "markdown",
      "source": [
        "(Double tap to add text)"
      ],
      "metadata": {
        "id": "zZ-FpcUomQ7A"
      }
    }
  ],
  "metadata": {
    "colab": {
      "provenance": [],
      "include_colab_link": true
    },
    "interpreter": {
      "hash": "6f6a9d06c0fd64bf60e6e1c5f52d9e61e3a0d126987fc458258eb07643fb7172"
    },
    "kernelspec": {
      "display_name": "Python 3",
      "language": "python",
      "name": "python3"
    },
    "language_info": {
      "codemirror_mode": {
        "name": "ipython",
        "version": 3
      },
      "file_extension": ".py",
      "mimetype": "text/x-python",
      "name": "python",
      "nbconvert_exporter": "python",
      "pygments_lexer": "ipython3",
      "version": "3.8.5"
    }
  },
  "nbformat": 4,
  "nbformat_minor": 0
}